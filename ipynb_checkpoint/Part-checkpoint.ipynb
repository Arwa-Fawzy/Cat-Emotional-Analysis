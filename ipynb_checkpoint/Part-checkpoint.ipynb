{
 "cells": [
  {
   "cell_type": "code",
   "execution_count": 1,
   "id": "f77c0043",
   "metadata": {},
   "outputs": [],
   "source": [
    "import torch\n",
    "import imutils\n",
    "import math\n",
    "from matplotlib import pyplot as plt\n",
    "import numpy as np\n",
    "import cv2\n",
    "import os"
   ]
  },
  {
   "cell_type": "code",
   "execution_count": 2,
   "id": "233d79db",
   "metadata": {},
   "outputs": [],
   "source": [
    "IMAGES_PATH = os.path.join('data', 'images') #/data/images\n",
    "labels = ['Ear', 'Eye','Tail','Mouth']\n",
    "number_imgs = 306"
   ]
  },
  {
   "cell_type": "code",
   "execution_count": null,
   "id": "e6008d9f",
   "metadata": {},
   "outputs": [],
   "source": [
    "\n",
    "!cd yolov5 && python train.py --img 320 --batch 16 --epochs 150 --data dataset.yml --weights yolov5s.pt --workers 2\n"
   ]
  },
  {
   "cell_type": "code",
   "execution_count": 3,
   "id": "17fa447e",
   "metadata": {},
   "outputs": [
    {
     "name": "stderr",
     "output_type": "stream",
     "text": [
      "Downloading: \"https://github.com/ultralytics/yolov5/zipball/master\" to C:\\Users\\Ahmed Mohamed/.cache\\torch\\hub\\master.zip\n",
      "YOLOv5  2022-12-17 Python-3.9.7 torch-1.12.1+cpu CPU\n",
      "\n",
      "Fusing layers... \n",
      "Model summary: 157 layers, 7020913 parameters, 0 gradients, 15.8 GFLOPs\n",
      "Adding AutoShape... \n"
     ]
    }
   ],
   "source": [
    "model = torch.hub.load('ultralytics/yolov5', 'custom', path='yolov5/runs/train/exp/weights/best.pt', force_reload=True)\n"
   ]
  },
  {
   "cell_type": "code",
   "execution_count": 4,
   "id": "4b1324bd",
   "metadata": {},
   "outputs": [],
   "source": [
    "def list_spilter_Images(image_func):\n",
    "    Eye_images = [x for x in image_func if int(x[5]) == 1]\n",
    "    Tail_images = [x for x in image_func if int(x[5]) == 2]\n",
    "    Ear_images = [x for x in image_func if int(x[5]) == 0]\n",
    "    Mouth_images = [x for x in image_func if int(x[5]) == 3 or int(x[5]) == 4 or int(x[5]) == 5]\n",
    "    Acc_Max = 0\n",
    "    Best_eye_image = []\n",
    "    for i in Eye_images:\n",
    "        if float(i[4]) > Acc_Max:\n",
    "            Best_eye_image = i\n",
    "            Acc_Max = float(i[4])\n",
    "    Best_tail_image = []\n",
    "    Acc_Max = 0\n",
    "    for i in Tail_images:\n",
    "        if float(i[4]) > Acc_Max:\n",
    "            Best_tail_image = i\n",
    "            Acc_Max = float(i[4])\n",
    "    Best_ear_image = []\n",
    "    Acc_Max = 0\n",
    "    for i in Ear_images:\n",
    "        if float(i[4]) > Acc_Max:\n",
    "            Best_ear_image = i\n",
    "            Acc_Max = float(i[4])\n",
    "    Best_mouth_image = []\n",
    "    Acc_Max = 0\n",
    "    for i in Mouth_images:\n",
    "        if float(i[4]) > Acc_Max:\n",
    "            Best_mouth_image = i\n",
    "            Acc_Max = float(i[4])\n",
    "    return Eye_images,Tail_images,Ear_images,Mouth_images,Best_tail_image,Best_ear_image,Best_eye_image,Best_mouth_image"
   ]
  },
  {
   "cell_type": "code",
   "execution_count": 5,
   "id": "a2a6a6b2",
   "metadata": {},
   "outputs": [],
   "source": [
    "def eye_detection(img,image_cordinate):\n",
    "    Cropped_Eye = img[ int(image_cordinate[1]):int(image_cordinate[3]),int(image_cordinate[0]):int(image_cordinate[2])]\n",
    "    gray = cv2.cvtColor(Cropped_Eye, cv2.COLOR_BGR2GRAY)\n",
    "    # blur\n",
    "    blur = cv2.GaussianBlur(gray, (0,0), sigmaX=33, sigmaY=33)\n",
    "    # divide\n",
    "    divide = cv2.divide(gray, blur, scale=255)\n",
    "    # otsu threshold\n",
    "    thresh = cv2.threshold(divide, 0, 255, cv2.THRESH_BINARY+cv2.THRESH_OTSU)[1]\n",
    "    # apply morphology\n",
    "    kernel = cv2.getStructuringElement(cv2.MORPH_RECT, (3,3))\n",
    "    morph = cv2.morphologyEx(thresh, cv2.MORPH_CLOSE, kernel)\n",
    "    plt.axis('off')\n",
    "    plt.imshow(morph,cmap='gray')\n",
    "    plt.savefig('eye_detection.png')\n",
    "    number_of_white_pix = np.sum(morph >= 10)\n",
    "    number_of_pix = np.sum(morph >= -100)\n",
    "    White_Area_Ratio = number_of_white_pix/number_of_pix\n",
    "    White_Area_Ratio = White_Area_Ratio * 100\n",
    "    Area = 100 - White_Area_Ratio\n",
    "    if Area >= 37.5:\n",
    "        return 'Friendly'\n",
    "    elif Area >= 19:\n",
    "        return 'Relaxed'\n",
    "    elif Area > 0:\n",
    "        return 'aggressive'\n",
    "    \n",
    "def eye_behavior(list_of_eyes):\n",
    "    eye_behavior_dict = {'Friendly':0\n",
    "                        ,'Relaxed':0\n",
    "                        ,'aggressive':0}\n",
    "    for area in list_of_eyes:\n",
    "        if area == 'Friendly':\n",
    "            eye_behavior_dict['Friendly'] += 1 \n",
    "        elif area == 'Relaxed':\n",
    "            eye_behavior_dict['Relaxed'] += 1\n",
    "        elif area == 'aggressive':\n",
    "            eye_behavior_dict['aggressive'] += 1\n",
    "    most_appearance_behavior = max(eye_behavior_dict,key = eye_behavior_dict.get)\n",
    "    if most_appearance_behavior == 'Friendly':\n",
    "        return 'Friendly'\n",
    "    elif most_appearance_behavior == 'Relaxed':\n",
    "        return 'Relaxed'\n",
    "    elif most_appearance_behavior == 'aggressive':\n",
    "        return 'aggressive'\n",
    "       "
   ]
  },
  {
   "cell_type": "code",
   "execution_count": 6,
   "id": "4d5cc212",
   "metadata": {},
   "outputs": [],
   "source": [
    "def tail_detection(img,tail_coordinates):\n",
    "    tail = img[int(tail_coordinates[1]):int(tail_coordinates[3]),int(tail_coordinates[0]):int(tail_coordinates[2])]\n",
    "    height = abs(int(tail_coordinates[1])- int(tail_coordinates[3]))\n",
    "    width = abs(int(tail_coordinates[0])- int(tail_coordinates[2]))\n",
    "    gray_img = cv2.cvtColor(tail,cv2.COLOR_BGR2GRAY)\n",
    "    ret,thre = cv2.threshold(gray_img,127,255,\n",
    "                             cv2.THRESH_BINARY_INV+cv2.THRESH_OTSU)\n",
    "    kernel = np.ones((3,3),dtype=np.uint8)\n",
    "    opening = cv2.morphologyEx(thre,cv2.MORPH_OPEN,kernel,iterations =2)\n",
    "    sure_bg_1 = cv2.dilate(opening,kernel,iterations = 2)\n",
    "    sure_bg_1 = sure_bg_1.astype(np.uint8)\n",
    "    ret,markers_1 = cv2.connectedComponents(sure_bg_1)\n",
    "    markers_1 = markers_1.astype(np.uint8)\n",
    "    cnts = cv2.findContours(markers_1, cv2.RETR_EXTERNAL,cv2.CHAIN_APPROX_SIMPLE)\n",
    "    cnts = imutils.grab_contours(cnts)\n",
    "    c = max(cnts, key=cv2.contourArea)\n",
    "    extLeft = tuple(c[c[:, :, 0].argmin()][0])\n",
    "    extRight = tuple(c[c[:, :, 0].argmax()][0])\n",
    "    extTop = tuple(c[c[:, :, 1].argmin()][0])\n",
    "    extBot = tuple(c[c[:, :, 1].argmax()][0])\n",
    "    cv2.drawContours(tail, [c], -1, (0, 255, 255), 2)\n",
    "    cv2.circle(tail, extLeft, 8, (0, 0, 255), -1)\n",
    "    cv2.circle(tail, extRight, 8, (0, 255, 0), -1)\n",
    "    cv2.circle(tail, extTop, 8, (255, 0, 0), -1)\n",
    "    cv2.circle(tail, extBot, 8, (255, 255, 0), -1)\n",
    "    plt.axis('off')\n",
    "    plt.imshow(tail,cmap='gray')\n",
    "    plt.savefig('tail_detection.png')\n",
    "    if width > height:\n",
    "        return extLeft,extRight\n",
    "    elif height > width : \n",
    "        return extTop,extBot\n",
    "            \n",
    "def gradient(firstPoint,secondPoint):\n",
    "    return(secondPoint[1]-firstPoint[1])/(secondPoint[0]-firstPoint[0])\n",
    "\n",
    "def getAngle(firstPoint,secondPoint,thirdPoint):\n",
    "    m1=gradient(firstPoint,secondPoint)\n",
    "    m2=gradient(firstPoint,thirdPoint)\n",
    "    angle_in_rad=math.atan((m2-m1)/(1+(m2*m1)))\n",
    "    angle_in_degrees=abs(round(math.degrees(angle_in_rad)))\n",
    "    if(angle_in_degrees>30 and angle_in_degrees<60):\n",
    "        return 'Aggressive or Frightened'\n",
    "    elif(angle_in_degrees>=0 and angle_in_degrees<=30):\n",
    "        return 'Relaxed and Confident'\n",
    "    elif(angle_in_degrees>=60):\n",
    "        return 'Friendly and happy'\n",
    "    \n",
    "    \n",
    "def tail_behavior(list_of_tails):\n",
    "    tail_behaviour_dict = {'Aggressive or Frightened':0,\n",
    "                     'Relaxed and Confident' : 0,\n",
    "                     'Friendly and happy': 0}\n",
    "    for i in list_of_tails:\n",
    "        if(i=='Aggressive or Frightened'):\n",
    "            tail_behaviour_dict['Aggressive or Frightened'] += 1\n",
    "        elif(i=='Relaxed and Confident'):\n",
    "            tail_behaviour_dict['Relaxed and Confident'] += 1\n",
    "        elif(i=='Friendly and happy'):\n",
    "            tail_behaviour_dict['Friendly and happy'] += 1\n",
    "    most_appearance_behavior = max(tail_behaviour_dict,key = tail_behaviour_dict.get)\n",
    "    \n",
    "    return most_appearance_behavior"
   ]
  },
  {
   "cell_type": "code",
   "execution_count": 8,
   "id": "5e837f38",
   "metadata": {},
   "outputs": [],
   "source": [
    "def mouth_detection(mouth_coordinate):\n",
    "    if int(mouth_coordinate[5]) == 3:\n",
    "        return 0\n",
    "    elif int(mouth_coordinate[5]) == 4:\n",
    "        return 'Seeing Intersting Visualiztion'\n",
    "    elif int(mouth_coordinate[5]) == 5:\n",
    "        return 'Aggressive'\n",
    "\n",
    "def mouth_behavior(list_of_mouths):\n",
    "    mouth_behaviour_dict = {'Seeing Intersting Visualiztion' : 0,\n",
    "                     'Aggressive': 0}\n",
    "    for i in list_of_mouths:\n",
    "        if(i=='Aggressive'):\n",
    "            mouth_behaviour_dict['Aggressive'] += 1\n",
    "        elif(i=='Seeing Intersting Visualiztion'):\n",
    "            mouth_behaviour_dict['Seeing Intersting Visualiztion'] += 1\n",
    "\n",
    "    most_appearance_behavior = max(mouth_behaviour_dict,key = mouth_behaviour_dict.get)\n",
    "    \n",
    "    return most_appearance_behavior"
   ]
  },
  {
   "cell_type": "code",
   "execution_count": 8,
   "id": "19444b31",
   "metadata": {},
   "outputs": [
    {
     "name": "stderr",
     "output_type": "stream",
     "text": [
      "image 1/1: 1280x1920 2 Ears, 2 Eyes, 1 Mouth\n",
      "Speed: 41.9ms pre-process, 120.7ms inference, 2.0ms NMS per image at shape (1, 3, 448, 640)\n"
     ]
    },
    {
     "data": {
      "image/png": "[encoded data removed]",
      "text/plain": [
       "<Figure size 432x288 with 1 Axes>"
      ]
     },
     "metadata": {
      "needs_background": "light"
     },
     "output_type": "display_data"
    }
   ],
   "source": [
    "def image_detection(image_path):\n",
    "    tail_case = 0\n",
    "    eye_case = 0\n",
    "    mouth_case = 0\n",
    "    img = os.path.join(image_path)\n",
    "    results = model(img)\n",
    "    results.print()\n",
    "    %matplotlib inline \n",
    "    plt.imshow(np.squeeze(results.render()))\n",
    "    plt.axis('off')\n",
    "    plt.savefig('image_detection.png')\n",
    "    img = cv2.imread(image_path)\n",
    "    image_list = results.xyxy[0]\n",
    "    eye_images,tail_images,ear_images,mouth_images,best_tail_image,best_ear_image,best_eye_image,best_mouth_image = list_spilter_Images(image_list)\n",
    "    if len(best_eye_image) > 0:\n",
    "        eye_case = eye_detection(img,best_eye_image)\n",
    "    if len(best_tail_image) > 0:\n",
    "        firstpoint,secondpoint = tail_detection(img,best_tail_image)\n",
    "        tail_case = getAngle(firstpoint,secondpoint,[best_tail_image[0],best_tail_image[1]])\n",
    "    if len(best_mouth_image) > 0:\n",
    "        mouth_case = mouth_detection(best_mouth_image)\n",
    "    return tail_case,mouth_case,eye_case\n",
    "cases = image_detection('08_22_Winery_Cats_HERO_GettyImages_475462958_1920x1280.jpg')"
   ]
  },
  {
   "cell_type": "code",
   "execution_count": 10,
   "id": "c043042c",
   "metadata": {},
   "outputs": [
    {
     "data": {
      "text/plain": [
       "(0, 0, 'Relaxed')"
      ]
     },
     "execution_count": 10,
     "metadata": {},
     "output_type": "execute_result"
    }
   ],
   "source": [
    "cases"
   ]
  },
  {
   "cell_type": "code",
   "execution_count": 11,
   "id": "4b4097fd",
   "metadata": {},
   "outputs": [],
   "source": [
    "def video_detection(video_path):\n",
    "\n",
    "    cap = cv2.VideoCapture(video_path)\n",
    "    list_of_eye_area = []\n",
    "    list_of_tails = []\n",
    "    list_of_mouths = []\n",
    "    while cap.isOpened():\n",
    "        ret, frame = cap.read()\n",
    "    \n",
    "    # Make detections \n",
    "        results = model(frame)\n",
    "        labels_coordinates = results.xyxy[0]\n",
    "        for i in labels_coordinates:\n",
    "            if int(i[5]) == 1 and float(i[4]) > 0.5:\n",
    "                eye_area_calculator = eye_detection(frame,i)\n",
    "                list_of_eye_area.append(eye_area_calculator)\n",
    "            if int(i[5]) == 2 :\n",
    "                firstpoint , secondpoint = tail_detection(frame,i)\n",
    "                tail_case= getAngle(firstpoint,secondpoint,[i[0],i[1]])\n",
    "                list_of_tails.append(tail_case)\n",
    "            if int(i[5]) == 3 or int(i[5]) == 4 or int(i[5]) == 5 :\n",
    "                mouth_case = mouth_detection(i)\n",
    "                list_of_mouths.append(mouth_case)\n",
    "        cv2.imshow('YOLO', np.squeeze(results.render()))\n",
    "    \n",
    "        if cv2.waitKey(1) & 0xFF == ord('q'):\n",
    "            break\n",
    "    cap.release()\n",
    "    cv2.destroyAllWindows()\n",
    "    eye_most_appearing_case = eye_behavior(list_of_eye_area)\n",
    "    tail_most_appearing_case = tail_behavior(list_of_tails)\n",
    "    mouth_most_appearing_case = mouth_behavior(list_of_mouths)\n",
    "    return list_of_eye_area,list_of_tails,list_of_mouths,eye_most_appearing_case,tail_most_appearing_case,mouth_most_appearing_case\n",
    "all_eyes,all_tails,all_mouth , eye_case,tail_case,mouth_case = video_detection('TOP 10 BEST CAT VIDEOS OF ALL TIME!.mp4')"
   ]
  },
  {
   "cell_type": "code",
   "execution_count": 17,
   "id": "2a3157ff",
   "metadata": {},
   "outputs": [
    {
     "data": {
      "text/plain": [
       "'Seeing Intersting Visualiztion'"
      ]
     },
     "execution_count": 17,
     "metadata": {},
     "output_type": "execute_result"
    }
   ],
   "source": [
    "mouth_case"
   ]
  }
 ],
 "metadata": {
  "kernelspec": {
   "display_name": "Python 3 (ipykernel)",
   "language": "python",
   "name": "python3"
  },
  "language_info": {
   "codemirror_mode": {
    "name": "ipython",
    "version": 3
   },
   "file_extension": ".py",
   "mimetype": "text/x-python",
   "name": "python",
   "nbconvert_exporter": "python",
   "pygments_lexer": "ipython3",
   "version": "3.9.7"
  }
 },
 "nbformat": 4,
 "nbformat_minor": 5
}
